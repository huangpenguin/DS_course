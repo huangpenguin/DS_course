{
 "cells": [
  {
   "cell_type": "markdown",
   "source": [
    "Ensemble learning 是一种机器学习方法，它通过组合多个弱学习器（weak learners）来构建一个强学习器（strong learner）。这个组合的过程旨在提高模型的性能和泛化能力，从而改善对新样本的预测表现。\n",
    "\n",
    "Bagging (Bootstrap Aggregating)使用自助采样（bootstrap sampling）的方法从训练集中随机抽取多个子集，然后在每个子集上训练一个独立的学习器。最终的预测结果通过投票或平均得到。随机森林（Random Forest）是 Bagging 的一个典型例子，它基于决策树构建。\n",
    "\n",
    "Boosting 通过迭代地训练一系列弱学习器，每个弱学习器都试图纠正前一个学习器的错误。最终的预测结果是所有弱学习器的加权和。\n",
    "AdaBoost 和 Gradient Boosting 是 Boosting 的代表性算法。\n",
    "\n",
    "Stacking 利用多个基础学习器的预测结果，将它们作为输入，再通过一个元学习器进行最终的预测。Stacking 的关键是如何选择和训练元学习器，通常使用交叉验证来完成这一过程。\n",
    "\n",
    "![Alt Text](Dic/ensemble1.png)"
   ],
   "metadata": {
    "collapsed": false
   },
   "id": "562cf724505f5ab7"
  },
  {
   "cell_type": "code",
   "execution_count": 2,
   "outputs": [],
   "source": [
    "import numpy as np\n",
    "import pandas as pd\n",
    "from pandas import Series, DataFrame\n",
    "import matplotlib.pyplot as plt\n",
    "import seaborn as sns\n",
    "from sklearn import preprocessing\n",
    "from sklearn.metrics import accuracy_score\n",
    "from sklearn.model_selection import train_test_split\n",
    "\n",
    "from sklearn.datasets import load_iris\n",
    "iris = load_iris()\n",
    "iris_X = iris.data\n",
    "iris_y = iris.target\n",
    "X_train, X_test, y_train, y_test = train_test_split(iris_X,iris_y, test_size = 0.3, random_state=0)"
   ],
   "metadata": {
    "collapsed": false,
    "ExecuteTime": {
     "end_time": "2024-01-12T09:29:23.878650100Z",
     "start_time": "2024-01-12T09:29:23.845686200Z"
    }
   },
   "id": "2148d6c1b8fde491"
  },
  {
   "cell_type": "markdown",
   "source": [
    "![Alt Text](Dic/ensemble2.png)"
   ],
   "metadata": {
    "collapsed": false
   },
   "id": "cf27b5833be8cab1"
  },
  {
   "cell_type": "code",
   "execution_count": 3,
   "outputs": [
    {
     "name": "stdout",
     "output_type": "stream",
     "text": [
      "0.9111111111111111\n"
     ]
    }
   ],
   "source": [
    "# モジュールのインポート\n",
    "from sklearn.ensemble import BaggingClassifier\n",
    "# ここでは決定木を使うことにする（以前の回を参照）\n",
    "from sklearn.tree import DecisionTreeClassifier\n",
    "iris_tree = DecisionTreeClassifier(criterion='entropy',max_depth=3, random_state=0)\n",
    "# 学習\n",
    "iris_bag = BaggingClassifier(iris_tree, n_estimators = 10,max_samples = 0.5, random_state=0)\n",
    "iris_bag.fit(X_train, y_train)\n",
    "iris_bag_pre = iris_bag.predict(X_test)\n",
    "print(accuracy_score(y_test, iris_bag_pre))"
   ],
   "metadata": {
    "collapsed": false,
    "ExecuteTime": {
     "end_time": "2024-01-12T09:29:23.888643100Z",
     "start_time": "2024-01-12T09:29:23.874650600Z"
    }
   },
   "id": "5fec019bcae1d6f2"
  },
  {
   "cell_type": "code",
   "execution_count": 4,
   "outputs": [
    {
     "name": "stdout",
     "output_type": "stream",
     "text": [
      "0.9777777777777777\n"
     ]
    }
   ],
   "source": [
    "from sklearn.svm import SVC\n",
    "iris_svm = SVC(kernel='linear', C=1.0, random_state=0)\n",
    "iris_bag2=BaggingClassifier(iris_svm, n_estimators = 10,max_samples = 0.5, random_state=0)\n",
    "\n",
    "iris_bag2.fit(X_train, y_train)\n",
    "iris_bag2_pre = iris_bag2.predict(X_test)\n",
    "print(accuracy_score(y_test, iris_bag2_pre))"
   ],
   "metadata": {
    "collapsed": false,
    "ExecuteTime": {
     "end_time": "2024-01-12T09:29:23.902004300Z",
     "start_time": "2024-01-12T09:29:23.887643300Z"
    }
   },
   "id": "d82a767d2a881409"
  },
  {
   "cell_type": "markdown",
   "source": [
    "![Alt Text](Dic/ensemble3.png)"
   ],
   "metadata": {
    "collapsed": false
   },
   "id": "c757ed3755ad0986"
  },
  {
   "cell_type": "code",
   "execution_count": 5,
   "outputs": [
    {
     "name": "stdout",
     "output_type": "stream",
     "text": [
      "0.9555555555555556\n"
     ]
    }
   ],
   "source": [
    "from sklearn.ensemble import AdaBoostClassifier\n",
    "# ここでも決定木を使うことにする（前のスライドを参照）\n",
    "\n",
    "iris_ab = AdaBoostClassifier(iris_tree, n_estimators = 10,\n",
    "random_state=0)\n",
    "iris_ab.fit(X_train, y_train)\n",
    "# 評価\n",
    "iris_ab_pre = iris_ab.predict(X_test)\n",
    "print(accuracy_score(y_test, iris_ab_pre))"
   ],
   "metadata": {
    "collapsed": false,
    "ExecuteTime": {
     "end_time": "2024-01-12T09:29:23.946725100Z",
     "start_time": "2024-01-12T09:29:23.901004400Z"
    }
   },
   "id": "f4e052ab7e6bd287"
  },
  {
   "cell_type": "code",
   "execution_count": 6,
   "outputs": [
    {
     "name": "stdout",
     "output_type": "stream",
     "text": [
      "0.9777777777777777\n"
     ]
    }
   ],
   "source": [
    "from sklearn.ensemble import GradientBoostingClassifier\n",
    "# 学習（決定木を指定する必要はない）\n",
    "iris_gb = GradientBoostingClassifier(n_estimators = 10,\n",
    "random_state=0)\n",
    "iris_gb.fit(X_train, y_train)\n",
    "# 評価\n",
    "iris_gb_pre = iris_gb.predict(X_test)\n",
    "print(accuracy_score(y_test, iris_gb_pre))"
   ],
   "metadata": {
    "collapsed": false,
    "ExecuteTime": {
     "end_time": "2024-01-12T09:29:40.995353200Z",
     "start_time": "2024-01-12T09:29:40.979128700Z"
    }
   },
   "id": "c4b524bd903b298f"
  },
  {
   "cell_type": "markdown",
   "source": [
    "\n",
    "随机森林（Random Forest）是一种基于 Bagging 思想的集成学习方法，通常应用于分类和回归问题。它通过构建多个决策树，然后将它们的预测结果进行组合，以提高整体模型的性能和泛化能力。\n",
    "\n",
    "以下是随机森林的主要特点和步骤：\n",
    "\n",
    "随机选择训练样本： 对于每棵决策树的训练，从训练集中进行自助采样（Bootstrap Sampling），即随机有放回地从原始训练集中抽取一定数量的样本用于构建该决策树。\n",
    "\n",
    "随机选择特征： 在构建每个决策树的过程中，对于每个节点的划分，随机选择一部分特征子集，而不是使用所有特征。这有助于增加每个决策树之间的差异性。\n",
    "\n",
    "构建决策树： 使用选定的训练样本和特征子集来构建一棵决策树。在每个节点上，通过某种标准（例如 Gini 不纯度或信息增益）选择最优的特征进行划分。\n",
    "\n",
    "重复步骤1-3： 重复步骤1-3，构建多棵决策树。\n",
    "\n",
    "集成预测： 对于分类问题，通过对所有决策树的预测结果进行投票，选择获得最多投票的类别作为最终的预测结果。对于回归问题，可以取所有决策树预测结果的平均值。\n",
    "\n",
    "随机森林的优点包括：\n",
    "\n",
    "高度并行化： 由于每棵树都是独立训练的，可以并行计算，从而提高了训练效率。\n",
    "抗过拟合： 通过随机选择样本和特征，减少了过拟合的风险。\n",
    "高准确性： 在许多问题上，随机森林通常能够取得很好的性能。"
   ],
   "metadata": {
    "collapsed": false
   },
   "id": "de963f716b7a9ce2"
  },
  {
   "cell_type": "code",
   "execution_count": 7,
   "outputs": [
    {
     "name": "stdout",
     "output_type": "stream",
     "text": [
      "0.9777777777777777\n"
     ]
    }
   ],
   "source": [
    "# モジュールのインポート\n",
    "from sklearn.ensemble import RandomForestClassifier\n",
    "# 学習（ DecisionTreeClassifier を作成する必要はない）\n",
    "iris_rf = RandomForestClassifier(n_estimators=100,\n",
    "random_state=0)\n",
    "iris_rf.fit(X_train, y_train)\n",
    "# 評価\n",
    "iris_rf_pre = iris_rf.predict(X_test)\n",
    "print(accuracy_score(y_test, iris_rf_pre))"
   ],
   "metadata": {
    "collapsed": false,
    "ExecuteTime": {
     "end_time": "2024-01-12T09:33:11.928724Z",
     "start_time": "2024-01-12T09:33:11.839856600Z"
    }
   },
   "id": "dda1a15d08d2d18a"
  },
  {
   "cell_type": "markdown",
   "source": [
    "在随机森林中，通过衡量每个特征在决策树的构建过程中对模型性能的提升程度，可以估计每个特征的重要性。这个衡量标准通常被称为特征的\"重要度\"。\n",
    "\n",
    "Gini 不纯度（Gini Impurity）减少： 对于每个节点的分裂，可以计算通过该节点分裂后的 Gini 不纯度减少量。节点分裂后的 Gini 不纯度减少越大，说明该特征在该节点处的重要性越高。\n",
    "\n",
    "袋外误差减少（Out-of-Bag Error Reduction）： 随机森林的训练集是通过自助采样得到的，因此每个决策树都有一些样本未被抽到，称为袋外样本。可以通过测量每个特征在袋外样本上的预测误差减少来估计特征的重要性。\n",
    "\n",
    "特征使用频率： 统计每个特征在所有树的节点分裂中被使用的次数，频率越高，说明该特征越重要。"
   ],
   "metadata": {
    "collapsed": false
   },
   "id": "4b35216665f87f24"
  },
  {
   "cell_type": "code",
   "execution_count": 9,
   "outputs": [
    {
     "name": "stdout",
     "output_type": "stream",
     "text": [
      " 2) petal length (cm)    0.479778\n",
      " 3) petal width (cm)     0.394131\n",
      " 0) sepal length (cm)    0.102444\n",
      " 1) sepal width (cm)     0.023647\n"
     ]
    }
   ],
   "source": [
    "# 変数名と個数\n",
    "var_name = iris.feature_names\n",
    "var_num = len(var_name)\n",
    "# 各変数の重要度\n",
    "importance = iris_rf.feature_importances_\n",
    "# 降順に並べて出力\n",
    "var_index = np.argsort(importance)[::-1]\n",
    "for i in var_index:\n",
    "    print(\"%2d) %-*s %f\" % (i, 20, var_name[i],importance[i]))"
   ],
   "metadata": {
    "collapsed": false,
    "ExecuteTime": {
     "end_time": "2024-01-12T09:35:49.080181200Z",
     "start_time": "2024-01-12T09:35:49.071394Z"
    }
   },
   "id": "a7c184068561a250"
  },
  {
   "cell_type": "code",
   "execution_count": 10,
   "outputs": [
    {
     "data": {
      "text/plain": "Text(0.5, 1.0, 'Importance')"
     },
     "execution_count": 10,
     "metadata": {},
     "output_type": "execute_result"
    },
    {
     "data": {
      "text/plain": "<Figure size 640x480 with 1 Axes>",
      "image/png": "[encoded data removed]"
     },
     "metadata": {},
     "output_type": "display_data"
    }
   ],
   "source": [
    "# グラフをプロット\n",
    "plt.bar(range(var_num), importance[var_index],\n",
    "color='lightblue', align='center')\n",
    "# 軸やタイトルの設定\n",
    "var_name2 = [ iris.feature_names[i] for i in var_index ]\n",
    "plt.xticks(range(var_num), var_name2, rotation=30)\n",
    "plt.subplots_adjust(bottom=0.2)\n",
    "plt.xlim([-1, var_num])\n",
    "plt.title('Importance')"
   ],
   "metadata": {
    "collapsed": false,
    "ExecuteTime": {
     "end_time": "2024-01-12T09:40:46.400177400Z",
     "start_time": "2024-01-12T09:40:46.288549Z"
    }
   },
   "id": "ebb29319f4840e3b"
  },
  {
   "cell_type": "markdown",
   "source": [
    "![Alt Text](Dic/ensemble4.png)\n",
    "![Alt Text](Dic/ensemble5.png)"
   ],
   "metadata": {
    "collapsed": false
   },
   "id": "ec99779371a051bd"
  },
  {
   "cell_type": "code",
   "execution_count": 12,
   "outputs": [
    {
     "name": "stdout",
     "output_type": "stream",
     "text": [
      "0.9777777777777777\n"
     ]
    }
   ],
   "source": [
    "from sklearn.tree import DecisionTreeClassifier\n",
    "from sklearn.svm import SVC\n",
    "from sklearn.naive_bayes import MultinomialNB\n",
    "# ここでは決定木とSVMとナイーブベイズを使うことにする\n",
    "vote_tree = DecisionTreeClassifier(criterion='entropy',max_depth=3)\n",
    "vote_svm = SVC(kernel='linear', C=1.0)\n",
    "vote_nb = MultinomialNB()\n",
    "# それぞれ何か名前を付けて，各ペアのリストにする\n",
    "vote_est = [('tree', vote_tree), ('svm', vote_svm), ('nb',vote_nb)]\n",
    "from sklearn.ensemble import VotingClassifier\n",
    "# 投票器\n",
    "iris_vote = VotingClassifier(estimators=vote_est)\n",
    "# 学習\n",
    "iris_vote.fit(X_train, y_train)\n",
    "# 評価\n",
    "iris_vote_pre = iris_vote.predict(X_test)\n",
    "print(accuracy_score(y_test, iris_vote_pre))"
   ],
   "metadata": {
    "collapsed": false,
    "ExecuteTime": {
     "end_time": "2024-01-12T10:01:22.401180500Z",
     "start_time": "2024-01-12T10:01:22.395324200Z"
    }
   },
   "id": "c7efd2bdd23b477e"
  },
  {
   "cell_type": "code",
   "execution_count": 22,
   "outputs": [
    {
     "name": "stdout",
     "output_type": "stream",
     "text": [
      "0.9777777777777777\n"
     ]
    }
   ],
   "source": [
    "#重み付き投票\n",
    "iris_vote2 = VotingClassifier(estimators=vote_est,voting='hard', weights=[3, 5, 5])\n",
    "iris_vote2.fit(X_train, y_train)\n",
    "iris_vote2_pre = iris_vote2.predict(X_test)\n",
    "print(accuracy_score(y_test, iris_vote2_pre))"
   ],
   "metadata": {
    "collapsed": false,
    "ExecuteTime": {
     "end_time": "2024-01-12T10:03:51.322230400Z",
     "start_time": "2024-01-12T10:03:51.315821100Z"
    }
   },
   "id": "49970ba56ba5cf32"
  },
  {
   "cell_type": "markdown",
   "source": [
    "![Alt Text](Dic/ensemble6.png)\n",
    "![Alt Text](Dic/ensemble7.png)"
   ],
   "metadata": {
    "collapsed": false
   },
   "id": "7481d9183863a1ce"
  },
  {
   "cell_type": "code",
   "execution_count": 23,
   "outputs": [
    {
     "name": "stdout",
     "output_type": "stream",
     "text": [
      "0.9777777777777777\n"
     ]
    }
   ],
   "source": [
    "#stacking 叠加\n",
    "from sklearn.tree import DecisionTreeClassifier\n",
    "from sklearn.svm import SVC\n",
    "from sklearn.naive_bayes import MultinomialNB\n",
    "# ここでは決定木とSVMとナイーブベイズを使うことにする\n",
    "stack_tree = DecisionTreeClassifier(criterion='entropy',max_depth=3)\n",
    "stack_svm = SVC(kernel='linear', C=1.0)\n",
    "stack_nb = MultinomialNB()\n",
    "# それぞれ何か名前を付けて，各ペアのリストにする\n",
    "stack_est = [('tree', stack_tree), ('svm', stack_svm),('nb', stack_nb)]\n",
    "\n",
    "from sklearn.ensemble import RandomForestClassifier\n",
    "from sklearn.ensemble import StackingClassifier\n",
    "# メタ分類器（ここではランダムフォレストにする）\n",
    "final_rf = RandomForestClassifier(n_estimators=100)\n",
    "iris_stack = StackingClassifier(estimators=stack_est,final_estimator=final_rf)\n",
    "# 学習\n",
    "iris_stack.fit(X_train, y_train)\n",
    "# 評価\n",
    "iris_stack_pre = iris_stack.predict(X_test)\n",
    "print(accuracy_score(y_test, iris_stack_pre))"
   ],
   "metadata": {
    "collapsed": false,
    "ExecuteTime": {
     "end_time": "2024-01-12T10:10:00.858757300Z",
     "start_time": "2024-01-12T10:10:00.785119200Z"
    }
   },
   "id": "5a452442b0c497ff"
  },
  {
   "cell_type": "code",
   "execution_count": null,
   "outputs": [],
   "source": [
    "![Alt Text](Dic/ensemble8.png)"
   ],
   "metadata": {
    "collapsed": false
   },
   "id": "a8ce6a09e9c840ea"
  }
 ],
 "metadata": {
  "kernelspec": {
   "display_name": "Python 3",
   "language": "python",
   "name": "python3"
  },
  "language_info": {
   "codemirror_mode": {
    "name": "ipython",
    "version": 2
   },
   "file_extension": ".py",
   "mimetype": "text/x-python",
   "name": "python",
   "nbconvert_exporter": "python",
   "pygments_lexer": "ipython2",
   "version": "2.7.6"
  }
 },
 "nbformat": 4,
 "nbformat_minor": 5
}
