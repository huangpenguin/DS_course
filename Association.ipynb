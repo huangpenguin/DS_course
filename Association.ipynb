{
 "cells": [
  {
   "cell_type": "code",
   "execution_count": 9,
   "outputs": [
    {
     "data": {
      "text/plain": "   パン  牛乳  ハム  果物  オムツ  ビール  ソーセージ  弁当  タバコ  ジュース\n1   1   0   1   0    1    1      0   0    0     0\n2   0   0   0   0    0    1      1   0    0     0\n3   0   0   0   0    1    1      0   1    1     0\n4   0   0   0   1    0    1      0   1    0     1",
      "text/html": "<div>\n<style scoped>\n    .dataframe tbody tr th:only-of-type {\n        vertical-align: middle;\n    }\n\n    .dataframe tbody tr th {\n        vertical-align: top;\n    }\n\n    .dataframe thead th {\n        text-align: right;\n    }\n</style>\n<table border=\"1\" class=\"dataframe\">\n  <thead>\n    <tr style=\"text-align: right;\">\n      <th></th>\n      <th>パン</th>\n      <th>牛乳</th>\n      <th>ハム</th>\n      <th>果物</th>\n      <th>オムツ</th>\n      <th>ビール</th>\n      <th>ソーセージ</th>\n      <th>弁当</th>\n      <th>タバコ</th>\n      <th>ジュース</th>\n    </tr>\n  </thead>\n  <tbody>\n    <tr>\n      <th>1</th>\n      <td>1</td>\n      <td>0</td>\n      <td>1</td>\n      <td>0</td>\n      <td>1</td>\n      <td>1</td>\n      <td>0</td>\n      <td>0</td>\n      <td>0</td>\n      <td>0</td>\n    </tr>\n    <tr>\n      <th>2</th>\n      <td>0</td>\n      <td>0</td>\n      <td>0</td>\n      <td>0</td>\n      <td>0</td>\n      <td>1</td>\n      <td>1</td>\n      <td>0</td>\n      <td>0</td>\n      <td>0</td>\n    </tr>\n    <tr>\n      <th>3</th>\n      <td>0</td>\n      <td>0</td>\n      <td>0</td>\n      <td>0</td>\n      <td>1</td>\n      <td>1</td>\n      <td>0</td>\n      <td>1</td>\n      <td>1</td>\n      <td>0</td>\n    </tr>\n    <tr>\n      <th>4</th>\n      <td>0</td>\n      <td>0</td>\n      <td>0</td>\n      <td>1</td>\n      <td>0</td>\n      <td>1</td>\n      <td>0</td>\n      <td>1</td>\n      <td>0</td>\n      <td>1</td>\n    </tr>\n  </tbody>\n</table>\n</div>"
     },
     "execution_count": 9,
     "metadata": {},
     "output_type": "execute_result"
    }
   ],
   "source": [
    "import numpy as np\n",
    "import pandas as pd\n",
    "from pandas import Series, DataFrame\n",
    "import matplotlib.pyplot as plt\n",
    "import seaborn as sns\n",
    "\n",
    "basket = pd.read_csv('basket-sample.csv')\n",
    "basket[basket['ビール'] > 0]"
   ],
   "metadata": {
    "collapsed": false,
    "ExecuteTime": {
     "end_time": "2024-01-13T08:39:46.980791500Z",
     "start_time": "2024-01-13T08:39:46.976721600Z"
    }
   },
   "id": "bee4d22ecb6183bd"
  },
  {
   "cell_type": "code",
   "execution_count": 10,
   "outputs": [],
   "source": [
    "# ビールとオムツについてブール値を求める\n",
    "beer = basket['ビール'] > 0\n",
    "omutsu = basket['オムツ'] > 0\n",
    "# たとえばビールの支持度（抜き出した数を全体の数で割る）\n",
    "supp_beer = len(basket[beer]) / len(basket)\n",
    "# & を使うと，論理積（ビールかつオムツ）を求められる\n",
    "both = beer & omutsu\n",
    "# ビール→オムツの確信度\n",
    "conf_beer_omutsu =len(basket[both]) / len(basket[beer])"
   ],
   "metadata": {
    "collapsed": false,
    "ExecuteTime": {
     "end_time": "2024-01-13T08:39:46.985070500Z",
     "start_time": "2024-01-13T08:39:46.981789400Z"
    }
   },
   "id": "c7fdf33957b94c7a"
  },
  {
   "cell_type": "markdown",
   "source": [
    "Apriori 算法是一种用于挖掘关联规则的经典算法，常用于发现大规模数据集中的频繁项集。关联规则是描述数据中项之间关系的规则，通常用于发现数据集中的潜在模式。\n",
    "\n",
    "Apriori 算法基于下面的先验原理（Apriori 原理）：\n",
    "\n",
    "Apriori 原理： 如果一个项集是频繁的，那么它的所有子集也是频繁的。反之，如果一个项集是非频繁的，那么它的所有超集也是非频繁的。\n",
    "\n",
    "扫描数据集： 统计每个项的支持度，得到频繁 1-项集。\n",
    "\n",
    "迭代生成频繁 k-项集： 基于频繁 (k-1)-项集，通过连接和剪枝生成频繁 k-项集，直至无法生成更多频繁项集。\n",
    "\n",
    "生成关联规则： 基于频繁项集，计算关联规则的置信度，选择满足最小支持度和最小置信度要求的规则。\n"
   ],
   "metadata": {
    "collapsed": false
   },
   "id": "2ff358c4680ff918"
  },
  {
   "cell_type": "code",
   "execution_count": 18,
   "outputs": [
    {
     "data": {
      "text/plain": "0     False\n1     False\n2     False\n3     False\n4     False\n5     False\n6     False\n7     False\n8     False\n9      True\n10    False\n11     True\n12    False\n13     True\nName: LHS, dtype: bool"
     },
     "execution_count": 18,
     "metadata": {},
     "output_type": "execute_result"
    }
   ],
   "source": [
    "%run apriori.py\n",
    "groceries = pd.read_csv('groceries.csv', index_col=0)\n",
    "groceries_rules =apriori(groceries, min_supp=0.05,min_conf=0.1)\n",
    "groceries_rules.sort_values('Support', ascending=False)\n",
    "groceries_rules['LHS'].str.contains(\"milk\")"
   ],
   "metadata": {
    "collapsed": false,
    "ExecuteTime": {
     "end_time": "2024-01-13T08:46:12.784003500Z",
     "start_time": "2024-01-13T08:46:12.495730700Z"
    }
   },
   "id": "fb4fe2fe602e7ec0"
  },
  {
   "cell_type": "markdown",
   "source": [],
   "metadata": {
    "collapsed": false
   },
   "id": "f6fb9b07094bb30c"
  },
  {
   "cell_type": "markdown",
   "source": [
    "最小支持度 (min_supp):\n",
    "\n",
    "定义： 支持度是一个项集（一组项）在数据集中出现的频率的度量。\n",
    "目的： min_supp 设定了一个最小支持度阈值，该阈值用于确定一个项集是否被认为是频繁的。支持度高于此阈值的项集被认为是频繁项集。\n",
    "影响： min_supp 较高的值将导致发现较少的频繁项集，因为它需要更高的支持度。较低的值将允许更多的项集被视为频繁。\n",
    "最小置信度 (min_conf):\n",
    "\n",
    "定义： 置信度衡量关联规则的可靠性。对于规则 A → B，置信度是在 A 的条件下发生 B 的概率。\n",
    "目的： min_conf 设定了一个最小置信度阈值，该阈值用于确定一个关联规则是否被认为是有趣的。\n",
    "影响： min_conf 较高的值将导致只有高置信度的规则被接受，过滤掉较弱的规则。较低的值将允许具有较低置信度的规则被考虑。\n",
    "选择这些参数的适当值取决于数据集的具体特征和分析目标：\n",
    "\n",
    "较高的 min_supp:\n",
    "\n",
    "优点： 导致较少但更重要的规则。减少要考虑的规则数量。\n",
    "缺点： 可能错过一些具有较低支持度的潜在有趣规则。\n",
    "较低的 min_supp:\n",
    "\n",
    "优点： 捕获更多具有较低支持度的规则。\n",
    "缺点： 可能导致更多的规则需要分析，包括较不显著的规则。\n",
    "较高的 min_conf:\n",
    "\n",
    "优点： 确保只有高置信度的规则被考虑，减少假阳性的风险。\n",
    "缺点： 可能会过滤掉一些具有较低置信度的潜在有趣规则。\n",
    "较低的 min_conf:\n",
    "\n",
    "优点： 捕获更多具有较低置信度的规则。\n",
    "缺点： 增加包括不太可靠的规则的风险，这些规则可能在实际中不太有用。\n",
    "\n",
    "• mlxtend というライブラリに apriori が実装されている\n",
    "• https://rasbt.github.io/mlxtend/\n",
    "• アソシエーション分析については User Guide や API の\n",
    "frequent_patterns を参照のこと"
   ],
   "metadata": {
    "collapsed": false
   },
   "id": "2a54d61fef24b82a"
  },
  {
   "cell_type": "code",
   "execution_count": 21,
   "outputs": [
    {
     "data": {
      "text/plain": "                  antecedents               consequents  antecedent support  \\\n0               (frankfurter)                 (sausage)            0.058973   \n1                   (sausage)             (frankfurter)            0.093950   \n2               (frankfurter)         (root vegetables)            0.058973   \n3               (frankfurter)        (other vegetables)            0.058973   \n4               (frankfurter)              (whole milk)            0.058973   \n..                        ...                       ...                 ...   \n455  (rolls/buns, whole milk)                  (yogurt)            0.056634   \n456                  (yogurt)  (rolls/buns, whole milk)            0.139502   \n457            (soda, yogurt)              (whole milk)            0.027351   \n458      (yogurt, whole milk)                    (soda)            0.056024   \n459        (soda, whole milk)                  (yogurt)            0.040061   \n\n     consequent support   support  confidence      lift  leverage  conviction  \\\n0              0.093950  0.010066    0.170690  1.816810  0.004526    1.092534   \n1              0.058973  0.010066    0.107143  1.816810  0.004526    1.053950   \n2              0.108998  0.010168    0.172414  1.581800  0.003740    1.076627   \n3              0.193493  0.016472    0.279310  1.443519  0.005061    1.119077   \n4              0.255516  0.020539    0.348276  1.363029  0.005470    1.142330   \n..                  ...       ...         ...       ...       ...         ...   \n455            0.139502  0.015557    0.274686  1.969049  0.007656    1.186380   \n456            0.056634  0.015557    0.111516  1.969049  0.007656    1.061770   \n457            0.255516  0.010473    0.382900  1.498535  0.003484    1.206423   \n458            0.174377  0.010473    0.186933  1.072003  0.000703    1.015442   \n459            0.139502  0.010473    0.261421  1.873964  0.004884    1.165073   \n\n     zhangs_metric  \n0         0.477760  \n1         0.496203  \n2         0.390859  \n3         0.326504  \n4         0.283031  \n..             ...  \n455       0.521686  \n456       0.571925  \n457       0.342037  \n458       0.071153  \n459       0.485835  \n\n[460 rows x 10 columns]",
      "text/html": "<div>\n<style scoped>\n    .dataframe tbody tr th:only-of-type {\n        vertical-align: middle;\n    }\n\n    .dataframe tbody tr th {\n        vertical-align: top;\n    }\n\n    .dataframe thead th {\n        text-align: right;\n    }\n</style>\n<table border=\"1\" class=\"dataframe\">\n  <thead>\n    <tr style=\"text-align: right;\">\n      <th></th>\n      <th>antecedents</th>\n      <th>consequents</th>\n      <th>antecedent support</th>\n      <th>consequent support</th>\n      <th>support</th>\n      <th>confidence</th>\n      <th>lift</th>\n      <th>leverage</th>\n      <th>conviction</th>\n      <th>zhangs_metric</th>\n    </tr>\n  </thead>\n  <tbody>\n    <tr>\n      <th>0</th>\n      <td>(frankfurter)</td>\n      <td>(sausage)</td>\n      <td>0.058973</td>\n      <td>0.093950</td>\n      <td>0.010066</td>\n      <td>0.170690</td>\n      <td>1.816810</td>\n      <td>0.004526</td>\n      <td>1.092534</td>\n      <td>0.477760</td>\n    </tr>\n    <tr>\n      <th>1</th>\n      <td>(sausage)</td>\n      <td>(frankfurter)</td>\n      <td>0.093950</td>\n      <td>0.058973</td>\n      <td>0.010066</td>\n      <td>0.107143</td>\n      <td>1.816810</td>\n      <td>0.004526</td>\n      <td>1.053950</td>\n      <td>0.496203</td>\n    </tr>\n    <tr>\n      <th>2</th>\n      <td>(frankfurter)</td>\n      <td>(root vegetables)</td>\n      <td>0.058973</td>\n      <td>0.108998</td>\n      <td>0.010168</td>\n      <td>0.172414</td>\n      <td>1.581800</td>\n      <td>0.003740</td>\n      <td>1.076627</td>\n      <td>0.390859</td>\n    </tr>\n    <tr>\n      <th>3</th>\n      <td>(frankfurter)</td>\n      <td>(other vegetables)</td>\n      <td>0.058973</td>\n      <td>0.193493</td>\n      <td>0.016472</td>\n      <td>0.279310</td>\n      <td>1.443519</td>\n      <td>0.005061</td>\n      <td>1.119077</td>\n      <td>0.326504</td>\n    </tr>\n    <tr>\n      <th>4</th>\n      <td>(frankfurter)</td>\n      <td>(whole milk)</td>\n      <td>0.058973</td>\n      <td>0.255516</td>\n      <td>0.020539</td>\n      <td>0.348276</td>\n      <td>1.363029</td>\n      <td>0.005470</td>\n      <td>1.142330</td>\n      <td>0.283031</td>\n    </tr>\n    <tr>\n      <th>...</th>\n      <td>...</td>\n      <td>...</td>\n      <td>...</td>\n      <td>...</td>\n      <td>...</td>\n      <td>...</td>\n      <td>...</td>\n      <td>...</td>\n      <td>...</td>\n      <td>...</td>\n    </tr>\n    <tr>\n      <th>455</th>\n      <td>(rolls/buns, whole milk)</td>\n      <td>(yogurt)</td>\n      <td>0.056634</td>\n      <td>0.139502</td>\n      <td>0.015557</td>\n      <td>0.274686</td>\n      <td>1.969049</td>\n      <td>0.007656</td>\n      <td>1.186380</td>\n      <td>0.521686</td>\n    </tr>\n    <tr>\n      <th>456</th>\n      <td>(yogurt)</td>\n      <td>(rolls/buns, whole milk)</td>\n      <td>0.139502</td>\n      <td>0.056634</td>\n      <td>0.015557</td>\n      <td>0.111516</td>\n      <td>1.969049</td>\n      <td>0.007656</td>\n      <td>1.061770</td>\n      <td>0.571925</td>\n    </tr>\n    <tr>\n      <th>457</th>\n      <td>(soda, yogurt)</td>\n      <td>(whole milk)</td>\n      <td>0.027351</td>\n      <td>0.255516</td>\n      <td>0.010473</td>\n      <td>0.382900</td>\n      <td>1.498535</td>\n      <td>0.003484</td>\n      <td>1.206423</td>\n      <td>0.342037</td>\n    </tr>\n    <tr>\n      <th>458</th>\n      <td>(yogurt, whole milk)</td>\n      <td>(soda)</td>\n      <td>0.056024</td>\n      <td>0.174377</td>\n      <td>0.010473</td>\n      <td>0.186933</td>\n      <td>1.072003</td>\n      <td>0.000703</td>\n      <td>1.015442</td>\n      <td>0.071153</td>\n    </tr>\n    <tr>\n      <th>459</th>\n      <td>(soda, whole milk)</td>\n      <td>(yogurt)</td>\n      <td>0.040061</td>\n      <td>0.139502</td>\n      <td>0.010473</td>\n      <td>0.261421</td>\n      <td>1.873964</td>\n      <td>0.004884</td>\n      <td>1.165073</td>\n      <td>0.485835</td>\n    </tr>\n  </tbody>\n</table>\n<p>460 rows × 10 columns</p>\n</div>"
     },
     "execution_count": 21,
     "metadata": {},
     "output_type": "execute_result"
    }
   ],
   "source": [
    "from mlxtend.frequent_patterns import apriori, fpgrowth\n",
    "# 相関ルールを求める関数\n",
    "from mlxtend.frequent_patterns import association_rules\n",
    "# apriori の代わりに fpgrowth でもよい\n",
    "groceries_itemset = apriori(groceries, min_support=0.01,use_colnames=True)\n",
    "# metric や閾値を設定してルールを作成\n",
    "association_rules(groceries_itemset, metric=\"confidence\",\n",
    "min_threshold=0.1)"
   ],
   "metadata": {
    "collapsed": false,
    "ExecuteTime": {
     "end_time": "2024-01-13T08:55:48.936821300Z",
     "start_time": "2024-01-13T08:55:48.831070Z"
    }
   },
   "id": "95662550b79ca756"
  }
 ],
 "metadata": {
  "kernelspec": {
   "display_name": "Python 3",
   "language": "python",
   "name": "python3"
  },
  "language_info": {
   "codemirror_mode": {
    "name": "ipython",
    "version": 2
   },
   "file_extension": ".py",
   "mimetype": "text/x-python",
   "name": "python",
   "nbconvert_exporter": "python",
   "pygments_lexer": "ipython2",
   "version": "2.7.6"
  }
 },
 "nbformat": 4,
 "nbformat_minor": 5
}
