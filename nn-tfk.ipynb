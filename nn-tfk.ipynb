{
 "cells": [
  {
   "cell_type": "markdown",
   "metadata": {},
   "source": [
    "# Tensorflow & Keras によるニューラルネットワーク（NN）入門"
   ]
  },
  {
   "cell_type": "code",
   "execution_count": 9,
   "metadata": {
    "ExecuteTime": {
     "end_time": "2024-02-03T08:18:42.850668400Z",
     "start_time": "2024-02-03T08:18:42.774160600Z"
    }
   },
   "outputs": [],
   "source": [
    "# いつものモジュールをインポート\n",
    "import numpy as np\n",
    "import pandas as pd\n",
    "import matplotlib.pyplot as plt\n",
    "import seaborn as sns\n",
    "%matplotlib inline\n",
    "\n",
    "# Irisデータ用\n",
    "from sklearn import datasets\n",
    "\n",
    "# Tensorflow & Keras\n",
    "import tensorflow as tf\n",
    "import tensorflow.keras\n",
    "from tensorflow.keras.models import Sequential\n",
    "from tensorflow.keras.layers import Dense, Dropout, Activation\n",
    "from tensorflow.keras.optimizers import SGD, Adam"
   ]
  },
  {
   "cell_type": "markdown",
   "metadata": {},
   "source": [
    "# まずは基本的な要素から"
   ]
  },
  {
   "cell_type": "code",
   "execution_count": 10,
   "metadata": {
    "ExecuteTime": {
     "end_time": "2024-02-03T08:18:42.903750600Z",
     "start_time": "2024-02-03T08:18:42.790160200Z"
    }
   },
   "outputs": [],
   "source": [
    "# ネットワークで使用する各種変数はTensorflowのVariableオブジェクト\n",
    "x1 = tf.Variable(1.0)\n",
    "x2 = tf.Variable(2.0)\n",
    "x3 = tf.Variable(3.0)"
   ]
  },
  {
   "cell_type": "code",
   "execution_count": 11,
   "metadata": {
    "ExecuteTime": {
     "end_time": "2024-02-03T08:18:42.915752400Z",
     "start_time": "2024-02-03T08:18:42.804160300Z"
    }
   },
   "outputs": [
    {
     "data": {
      "text/plain": "<tf.Tensor: shape=(), dtype=float32, numpy=1.0>"
     },
     "execution_count": 11,
     "metadata": {},
     "output_type": "execute_result"
    }
   ],
   "source": [
    "# 値の確認\n",
    "x1.value()"
   ]
  },
  {
   "cell_type": "code",
   "execution_count": 12,
   "metadata": {
    "ExecuteTime": {
     "end_time": "2024-02-03T08:18:42.916752300Z",
     "start_time": "2024-02-03T08:18:42.820162200Z"
    }
   },
   "outputs": [],
   "source": [
    "# 試しに計算をしてみる（順向き）\n",
    "# GradientTape を with で実行している間，変数はウォッチ（watch）される\n",
    "with tf.GradientTape() as g:\n",
    "    z = (x1 - 2 * x2 - 1) ** 2 + (x2 * x3 - 1) ** 2 + 1"
   ]
  },
  {
   "cell_type": "code",
   "execution_count": 13,
   "metadata": {
    "ExecuteTime": {
     "end_time": "2024-02-03T08:18:42.916752300Z",
     "start_time": "2024-02-03T08:18:42.835667900Z"
    }
   },
   "outputs": [
    {
     "name": "stdout",
     "output_type": "stream",
     "text": [
      "(<tf.Tensor: shape=(), dtype=float32, numpy=-8.0>, <tf.Tensor: shape=(), dtype=float32, numpy=46.0>, <tf.Tensor: shape=(), dtype=float32, numpy=20.0>)\n"
     ]
    }
   ],
   "source": [
    "# この結果をもとに，今度は勾配（微分値＝逆向き）計算\n",
    "dz = g.gradient(z, (x1, x2, x3))\n",
    "\n",
    "# x1, x2, x3に関する微分値は\n",
    "print(dz)"
   ]
  },
  {
   "cell_type": "code",
   "execution_count": 14,
   "metadata": {
    "ExecuteTime": {
     "end_time": "2024-02-03T08:18:42.917752600Z",
     "start_time": "2024-02-03T08:18:42.852668700Z"
    }
   },
   "outputs": [
    {
     "name": "stdout",
     "output_type": "stream",
     "text": [
      "tf.Tensor(-0.84147096, shape=(), dtype=float32)\n",
      "tf.Tensor(0.26894143, shape=(), dtype=float32)\n"
     ]
    }
   ],
   "source": [
    "# Variableを変数とする関数群がある\n",
    "# たとえば\n",
    "x4 =tf.Variable(-1.0)\n",
    "print(tf.sin(x4))\n",
    "print(tf.sigmoid(x4))"
   ]
  },
  {
   "cell_type": "code",
   "execution_count": 15,
   "metadata": {
    "ExecuteTime": {
     "end_time": "2024-02-03T08:18:42.917752600Z",
     "start_time": "2024-02-03T08:18:42.868748900Z"
    }
   },
   "outputs": [
    {
     "name": "stdout",
     "output_type": "stream",
     "text": [
      "tf.Tensor([0.87758255], shape=(1,), dtype=float32)\n",
      "tf.Tensor([-0.47942555], shape=(1,), dtype=float32)\n",
      "tf.Tensor([-0.47942555], shape=(1,), dtype=float32)\n"
     ]
    }
   ],
   "source": [
    "# もちろん微分できる\n",
    "x5 = tf.Variable(np.array([0.5], dtype=np.float32))\n",
    "\n",
    "with tf.GradientTape() as g:\n",
    "    z5 = tf.cos(x5)\n",
    "\n",
    "print(z5)\n",
    "dz5 = g.gradient(z5, x5)\n",
    "\n",
    "# 微分値\n",
    "print(dz5)\n",
    "\n",
    "# cos(x)の導関数は-sin(x)\n",
    "print((-1) * tf.sin(x5))"
   ]
  },
  {
   "cell_type": "markdown",
   "metadata": {},
   "source": [
    "# Kerasでネットワークを構成してみる"
   ]
  },
  {
   "cell_type": "markdown",
   "metadata": {},
   "source": [
    "Tensorflowでこれらを使用していけばネットワークを構成できるが，Kerasを使用すれば基本的なネットワークは容易に作成することができる"
   ]
  },
  {
   "cell_type": "code",
   "execution_count": 16,
   "metadata": {
    "ExecuteTime": {
     "end_time": "2024-02-03T08:18:42.919752400Z",
     "start_time": "2024-02-03T08:18:42.886750200Z"
    }
   },
   "outputs": [],
   "source": [
    "# たとえば入力4つ，第1層の出力3つ，第2層の出力3つのネットワーク\n",
    "\n",
    "# Sequentialでfeed-forwardのネットワークを準備する\n",
    "model = Sequential()\n",
    "\n",
    "# 各層を順次追加していく，まずは第1層\n",
    "# Denseとは通常の（線形の）層のこと\n",
    "model.add(Dense(input_dim=4, units=3))\n",
    "model.add(Activation('sigmoid'))\n",
    "\n",
    "# 第2層\n",
    "model.add(Dense(units=3))\n",
    "model.add(Activation('sigmoid'))"
   ]
  },
  {
   "cell_type": "markdown",
   "metadata": {},
   "source": [
    "学習の際は，損失関数の種類と学習（最適化）の方法をセットする"
   ]
  },
  {
   "cell_type": "code",
   "execution_count": 17,
   "metadata": {
    "ExecuteTime": {
     "end_time": "2024-02-03T08:18:43.016258800Z",
     "start_time": "2024-02-03T08:18:42.917752600Z"
    }
   },
   "outputs": [],
   "source": [
    "# 損失関数は平均二乗誤差（MSE）で，確率的最急勾配法（SGD）をセット\n",
    "model.compile(loss='mse', optimizer=SGD(learning_rate=0.1))"
   ]
  },
  {
   "cell_type": "markdown",
   "metadata": {},
   "source": [
    "あとは気が済むまで学習<br/>\n",
    "1つのデータセット（バッチ）ごとに，パラメータを1回更新するのが基本"
   ]
  },
  {
   "cell_type": "code",
   "execution_count": 18,
   "metadata": {
    "ExecuteTime": {
     "end_time": "2024-02-03T08:18:43.128806900Z",
     "start_time": "2024-02-03T08:18:42.932258500Z"
    }
   },
   "outputs": [
    {
     "name": "stdout",
     "output_type": "stream",
     "text": [
      "Epoch 1/10\n",
      "1/1 [==============================] - 0s 131ms/step - loss: 0.1035\n",
      "Epoch 2/10\n",
      "1/1 [==============================] - 0s 2ms/step - loss: 0.1030\n",
      "Epoch 3/10\n",
      "1/1 [==============================] - 0s 1000us/step - loss: 0.1025\n",
      "Epoch 4/10\n",
      "1/1 [==============================] - 0s 2ms/step - loss: 0.1020\n",
      "Epoch 5/10\n",
      "1/1 [==============================] - 0s 1ms/step - loss: 0.1015\n",
      "Epoch 6/10\n",
      "1/1 [==============================] - 0s 0s/step - loss: 0.1010\n",
      "Epoch 7/10\n",
      "1/1 [==============================] - 0s 1000us/step - loss: 0.1005\n",
      "Epoch 8/10\n",
      "1/1 [==============================] - 0s 1ms/step - loss: 0.1001\n",
      "Epoch 9/10\n",
      "1/1 [==============================] - 0s 1000us/step - loss: 0.0996\n",
      "Epoch 10/10\n",
      "1/1 [==============================] - 0s 1000us/step - loss: 0.0991\n"
     ]
    },
    {
     "data": {
      "text/plain": "<keras.callbacks.History at 0x187eefca188>"
     },
     "execution_count": 18,
     "metadata": {},
     "output_type": "execute_result"
    }
   ],
   "source": [
    "# ランダムなデータで学習，1バッチあたり2つのサンプルとする\n",
    "x = np.random.rand(8).astype(np.float32).reshape(2,4)\n",
    "y = np.random.rand(6).astype(np.float32).reshape(2,3)\n",
    "\n",
    "# 10回（10エポック）学習する\n",
    "model.fit(x, y, epochs=10)"
   ]
  },
  {
   "cell_type": "markdown",
   "metadata": {},
   "source": [
    "これら3ステップが，Kerasにおけるネットワークの学習の基本"
   ]
  },
  {
   "cell_type": "markdown",
   "metadata": {},
   "source": [
    "# IrisでNNを試してみる"
   ]
  },
  {
   "cell_type": "markdown",
   "metadata": {},
   "source": [
    "Irisは入力が4次元，正解ラベルは3種類（3分類），計150個のデータである (150,4)"
   ]
  },
  {
   "cell_type": "code",
   "execution_count": 19,
   "metadata": {
    "ExecuteTime": {
     "end_time": "2024-02-03T08:18:43.152312200Z",
     "start_time": "2024-02-03T08:18:43.122807100Z"
    }
   },
   "outputs": [],
   "source": [
    "# データをscikit-learnから読み込む\n",
    "iris = datasets.load_iris()\n",
    "\n",
    "# 学習データのベクトル\n",
    "X = iris.data\n",
    "# 正解データの準備（one-hotベクトルにする）\n",
    "Y = tensorflow.keras.utils.to_categorical(iris.target)\n",
    "# データを学習用とテスト用の2つに分ける（75個ずつ）\n",
    "# XとYを一つおきに振り分けて作成\n",
    "index = np.arange(len(X))\n",
    "xtrain = X[index[index % 2 != 0]]\n",
    "ytrain = Y[index[index % 2 != 0]]\n",
    "xtest = X[index[index % 2 == 0]]\n",
    "ytest = Y[index[index % 2 == 0]]"
   ]
  },
  {
   "cell_type": "code",
   "execution_count": 20,
   "metadata": {
    "ExecuteTime": {
     "end_time": "2024-02-03T08:18:43.153313Z",
     "start_time": "2024-02-03T08:18:43.138312500Z"
    }
   },
   "outputs": [],
   "source": [
    "# 学習データの順番をランダムにする\n",
    "import random\n",
    "n = len(xtrain)\n",
    "rnd = random.sample(list(range(n)), n)\n",
    "xtrain = xtrain[rnd]\n",
    "ytrain = ytrain[rnd]"
   ]
  },
  {
   "cell_type": "markdown",
   "metadata": {},
   "source": [
    "## 基本的なネットワーク"
   ]
  },
  {
   "cell_type": "markdown",
   "metadata": {},
   "source": [
    "まず，中間層6ノードのNNを作る"
   ]
  },
  {
   "cell_type": "code",
   "execution_count": 21,
   "metadata": {
    "ExecuteTime": {
     "end_time": "2024-02-03T08:18:43.212550600Z",
     "start_time": "2024-02-03T08:18:43.155312700Z"
    }
   },
   "outputs": [
    {
     "name": "stdout",
     "output_type": "stream",
     "text": [
      "Model: \"sequential_1\"\n",
      "_________________________________________________________________\n",
      " Layer (type)                Output Shape              Param #   \n",
      "=================================================================\n",
      " dense_2 (Dense)             (None, 6)                 30        \n",
      "                                                                 \n",
      " activation_2 (Activation)   (None, 6)                 0         \n",
      "                                                                 \n",
      " dense_3 (Dense)             (None, 3)                 21        \n",
      "                                                                 \n",
      "=================================================================\n",
      "Total params: 51\n",
      "Trainable params: 51\n",
      "Non-trainable params: 0\n",
      "_________________________________________________________________\n"
     ]
    },
    {
     "data": {
      "text/plain": "[<tf.Variable 'dense_2/kernel:0' shape=(4, 6) dtype=float32, numpy=\n array([[-0.55883694,  0.7225604 ,  0.6593379 ,  0.55042756,  0.6407349 ,\n         -0.3678578 ],\n        [-0.12841845,  0.58693683, -0.10279763, -0.17648   ,  0.07751262,\n          0.5070847 ],\n        [ 0.45728755, -0.20461833, -0.24474114, -0.15832669,  0.18181556,\n         -0.01956058],\n        [-0.547833  , -0.5696306 , -0.00929946, -0.43763313,  0.26785636,\n          0.7541081 ]], dtype=float32)>,\n <tf.Variable 'dense_2/bias:0' shape=(6,) dtype=float32, numpy=array([0., 0., 0., 0., 0., 0.], dtype=float32)>,\n <tf.Variable 'dense_3/kernel:0' shape=(6, 3) dtype=float32, numpy=\n array([[-0.46502206, -0.23358172,  0.5329639 ],\n        [-0.51116264, -0.4891599 , -0.8093525 ],\n        [-0.08246857, -0.1517688 ,  0.17886639],\n        [ 0.21793878,  0.7646028 , -0.61261284],\n        [-0.52453005, -0.32101935, -0.49552962],\n        [ 0.22128427,  0.41414833,  0.30068612]], dtype=float32)>,\n <tf.Variable 'dense_3/bias:0' shape=(3,) dtype=float32, numpy=array([0., 0., 0.], dtype=float32)>]"
     },
     "execution_count": 21,
     "metadata": {},
     "output_type": "execute_result"
    }
   ],
   "source": [
    "# このように作成することもできる\n",
    "iris_model = Sequential([\n",
    "    # \"units=\" は省略できる\n",
    "    Dense(6, input_dim=4),\n",
    "    Activation('sigmoid'),\n",
    "    # このように活性化関数もまとめて書くことができる\n",
    "    Dense(3, activation='softmax'),\n",
    "])\n",
    "\n",
    "# モデルのあらましとパラメータ（の初期値）を見てみる\n",
    "iris_model.summary()\n",
    "iris_model.weights"
   ]
  },
  {
   "cell_type": "code",
   "execution_count": 22,
   "metadata": {
    "ExecuteTime": {
     "end_time": "2024-02-03T08:18:49.959311600Z",
     "start_time": "2024-02-03T08:18:43.185551200Z"
    }
   },
   "outputs": [
    {
     "data": {
      "text/plain": "[<matplotlib.lines.Line2D at 0x187f33b62c8>]"
     },
     "execution_count": 22,
     "metadata": {},
     "output_type": "execute_result"
    },
    {
     "data": {
      "text/plain": "<Figure size 432x288 with 1 Axes>",
      "image/png": "[encoded data removed]"
     },
     "metadata": {
      "needs_background": "light"
     },
     "output_type": "display_data"
    }
   ],
   "source": [
    "# Irisは3クラスの分類なので，クロスエントロピー基準で学習(categorical_crossentropy适用于分类任务)\n",
    "iris_model.compile(loss='categorical_crossentropy', optimizer=SGD(learning_rate=0.1), metrics=['accuracy'])\n",
    "\n",
    "# 学習を10000回反復することにする\n",
    "# 進捗状況（プログレスバー）を非表示にする場合はverboseを0にする\n",
    "h = iris_model.fit(xtrain, ytrain, epochs=10000, batch_size=75, verbose=0)\n",
    "\n",
    "# fitは学習の経過を返すので，損失の値についてプロットして確認\n",
    "plt.plot(h.history['loss'])"
   ]
  },
  {
   "cell_type": "markdown",
   "metadata": {},
   "source": [
    "テストデータで性能を測る<br/>\n",
    "（NNの学習にはランダム性が入るので，同じデータから常に<br/>\n",
    "同じモデルが得られるわけではなく，性能も変化することに注意）"
   ]
  },
  {
   "cell_type": "code",
   "execution_count": 23,
   "metadata": {
    "ExecuteTime": {
     "end_time": "2024-02-03T08:18:50.100818500Z",
     "start_time": "2024-02-03T08:18:49.960313100Z"
    }
   },
   "outputs": [
    {
     "name": "stdout",
     "output_type": "stream",
     "text": [
      "3/3 [==============================] - 0s 500us/step - loss: 0.0603 - accuracy: 0.9733\n",
      "3/3 [==============================] - 0s 1ms/step\n"
     ]
    },
    {
     "data": {
      "text/plain": "array([0, 0, 0, 0, 0, 0, 0, 0, 0, 0, 0, 0, 0, 0, 0, 0, 0, 0, 0, 0, 0, 0,\n       0, 0, 0, 1, 1, 1, 1, 1, 1, 1, 1, 1, 1, 2, 2, 1, 1, 1, 1, 1, 1, 1,\n       1, 1, 1, 1, 1, 1, 2, 2, 2, 2, 2, 2, 2, 2, 2, 2, 2, 2, 2, 2, 2, 2,\n       2, 2, 2, 2, 2, 2, 2, 2, 2], dtype=int64)"
     },
     "execution_count": 23,
     "metadata": {},
     "output_type": "execute_result"
    }
   ],
   "source": [
    "# 正解率\n",
    "iris_model.evaluate(xtest, ytest)\n",
    "\n",
    "# 予測自体はpredictでできる\n",
    "p = iris_model.predict(xtest)\n",
    "\n",
    "# 確率が最大のものが予測結果のラベル\n",
    "np.argmax(p, axis=-1)"
   ]
  },
  {
   "cell_type": "markdown",
   "metadata": {},
   "source": [
    "## ミニバッチ"
   ]
  },
  {
   "cell_type": "markdown",
   "metadata": {},
   "source": [
    "学習データのサブセットを用意して学習する手法"
   ]
  },
  {
   "cell_type": "code",
   "execution_count": 24,
   "metadata": {
    "ExecuteTime": {
     "end_time": "2024-02-03T08:19:02.570616600Z",
     "start_time": "2024-02-03T08:18:50.102818Z"
    }
   },
   "outputs": [
    {
     "name": "stdout",
     "output_type": "stream",
     "text": [
      "3/3 [==============================] - 0s 500us/step - loss: 0.0477 - accuracy: 0.9733\n"
     ]
    },
    {
     "data": {
      "text/plain": "[0.04770226031541824, 0.9733333587646484]"
     },
     "execution_count": 24,
     "metadata": {},
     "output_type": "execute_result"
    },
    {
     "data": {
      "text/plain": "<Figure size 432x288 with 1 Axes>",
      "image/png": "[encoded data removed]"
     },
     "metadata": {
      "needs_background": "light"
     },
     "output_type": "display_data"
    }
   ],
   "source": [
    "iris_model2 = Sequential([\n",
    "    Dense(6, input_dim=4, activation='sigmoid'),\n",
    "    Dense(3, activation='softmax'),\n",
    "])\n",
    "iris_model2.compile(loss='categorical_crossentropy', optimizer=SGD(learning_rate=0.1), metrics=['accuracy'])\n",
    "\n",
    "# サンプル25個ごとに勾配計算\n",
    "h = iris_model2.fit(xtrain, ytrain, epochs=10000, batch_size=25, verbose=0)\n",
    "\n",
    "# 損失をプロットして確認\n",
    "plt.plot(h.history['loss'])\n",
    "\n",
    "# 正解率\n",
    "iris_model2.evaluate(xtest, ytest)"
   ]
  },
  {
   "cell_type": "markdown",
   "metadata": {},
   "source": [
    "# L2正則化"
   ]
  },
  {
   "cell_type": "markdown",
   "metadata": {},
   "source": [
    "重みに制約をかけて過学習を抑制する"
   ]
  },
  {
   "cell_type": "code",
   "execution_count": 25,
   "metadata": {
    "ExecuteTime": {
     "end_time": "2024-02-03T08:19:15.358799900Z",
     "start_time": "2024-02-03T08:19:02.573616600Z"
    }
   },
   "outputs": [
    {
     "name": "stdout",
     "output_type": "stream",
     "text": [
      "3/3 [==============================] - 0s 1ms/step - loss: 0.0646 - accuracy: 0.9733\n"
     ]
    },
    {
     "data": {
      "text/plain": "[0.06458437442779541, 0.9733333587646484]"
     },
     "execution_count": 25,
     "metadata": {},
     "output_type": "execute_result"
    },
    {
     "data": {
      "text/plain": "<Figure size 432x288 with 1 Axes>",
      "image/png": "[encoded data removed]"
     },
     "metadata": {
      "needs_background": "light"
     },
     "output_type": "display_data"
    }
   ],
   "source": [
    "# モデルの設計時に正則化を組み込む\n",
    "iris_model3 = Sequential([\n",
    "    Dense(6, input_dim=4, activation='sigmoid', kernel_regularizer=tensorflow.keras.regularizers.l2(0.001)),\n",
    "    Dense(3, activation='softmax'),\n",
    "])\n",
    "\n",
    "# 学習\n",
    "iris_model3.compile(loss='categorical_crossentropy', optimizer=SGD(learning_rate=0.1), metrics=['accuracy'])\n",
    "h = iris_model3.fit(xtrain, ytrain, epochs=10000, batch_size=25, verbose=0)\n",
    "plt.plot(h.history['loss'])\n",
    "\n",
    "# 正解率\n",
    "iris_model3.evaluate(xtest, ytest)"
   ]
  },
  {
   "cell_type": "markdown",
   "metadata": {},
   "source": [
    "# ドロップアウト"
   ]
  },
  {
   "cell_type": "markdown",
   "metadata": {},
   "source": [
    "ネットワーク内のユニットをランダムに落として学習することで過学習を抑制する"
   ]
  },
  {
   "cell_type": "code",
   "execution_count": 26,
   "metadata": {
    "ExecuteTime": {
     "end_time": "2024-02-03T08:19:28.147085700Z",
     "start_time": "2024-02-03T08:19:15.331293600Z"
    }
   },
   "outputs": [
    {
     "name": "stdout",
     "output_type": "stream",
     "text": [
      "3/3 [==============================] - 0s 1ms/step - loss: 0.1163 - accuracy: 0.9600\n"
     ]
    },
    {
     "data": {
      "text/plain": "[0.11628282815217972, 0.9599999785423279]"
     },
     "execution_count": 26,
     "metadata": {},
     "output_type": "execute_result"
    },
    {
     "data": {
      "text/plain": "<Figure size 432x288 with 1 Axes>",
      "image/png": "[encoded data removed]"
     },
     "metadata": {
      "needs_background": "light"
     },
     "output_type": "display_data"
    }
   ],
   "source": [
    "# モデルの設計時に正則化を組み込む\n",
    "iris_model4 = Sequential([\n",
    "    Dense(6, input_dim=4, activation='sigmoid'),\n",
    "    # ↑この層からドロップさせる割合を指定\n",
    "    Dropout(0.5),\n",
    "    Dense(3, activation='softmax'),\n",
    "])\n",
    "\n",
    "# 学習\n",
    "iris_model4.compile(loss='categorical_crossentropy', optimizer=SGD(learning_rate=0.1), metrics=['accuracy'])\n",
    "h = iris_model4.fit(xtrain, ytrain, epochs=10000, batch_size=25, verbose=0)\n",
    "plt.plot(h.history['loss'])\n",
    "\n",
    "# 正解率\n",
    "iris_model4.evaluate(xtest, ytest)"
   ]
  },
  {
   "cell_type": "markdown",
   "metadata": {},
   "source": [
    "# 学習の進行と損失関数"
   ]
  },
  {
   "cell_type": "markdown",
   "metadata": {},
   "source": [
    "最初のIrisのNNについて，損失関数と性能の変化をみてみる"
   ]
  },
  {
   "cell_type": "code",
   "execution_count": 27,
   "metadata": {
    "ExecuteTime": {
     "end_time": "2024-02-03T08:19:52.110160300Z",
     "start_time": "2024-02-03T08:19:28.149085700Z"
    }
   },
   "outputs": [
    {
     "name": "stdout",
     "output_type": "stream",
     "text": [
      "WARNING:tensorflow:5 out of the last 13 calls to <function Model.make_test_function.<locals>.test_function at 0x00000187F8BE2EE8> triggered tf.function retracing. Tracing is expensive and the excessive number of tracings could be due to (1) creating @tf.function repeatedly in a loop, (2) passing tensors with different shapes, (3) passing Python objects instead of tensors. For (1), please define your @tf.function outside of the loop. For (2), @tf.function has reduce_retracing=True option that can avoid unnecessary retracing. For (3), please refer to https://www.tensorflow.org/guide/function#controlling_retracing and https://www.tensorflow.org/api_docs/python/tf/function for  more details.\n",
      "3/3 [==============================] - 0s 500us/step - loss: 0.0779 - accuracy: 0.9733\n"
     ]
    },
    {
     "data": {
      "text/plain": "[0.07789471000432968, 0.9733333587646484]"
     },
     "execution_count": 27,
     "metadata": {},
     "output_type": "execute_result"
    },
    {
     "data": {
      "text/plain": "<Figure size 432x288 with 1 Axes>",
      "image/png": "[encoded data removed]"
     },
     "metadata": {
      "needs_background": "light"
     },
     "output_type": "display_data"
    }
   ],
   "source": [
    "iris_model5 = Sequential([\n",
    "    Dense(6, input_dim=4, activation='sigmoid'),\n",
    "    Dense(3, activation='softmax'),\n",
    "])\n",
    "# 最適化をAdamにしてみる\n",
    "iris_model5.compile(loss='categorical_crossentropy', optimizer=Adam(), metrics=['accuracy'])\n",
    "\n",
    "# 学習は2000回にする\n",
    "# 学習データの一部を分けて検証に使う\n",
    "h = iris_model5.fit(xtrain, ytrain, epochs=2000, batch_size=25, verbose=0, validation_split=0.2)\n",
    "\n",
    "plt.plot(h.history['loss'])\n",
    "plt.plot(h.history['accuracy'])\n",
    "iris_model5.evaluate(xtest, ytest)"
   ]
  },
  {
   "cell_type": "markdown",
   "metadata": {},
   "source": [
    "なお，学習の際にTracingの警告（warning）が出ることがありますが，ここでは問題ありません"
   ]
  }
 ],
 "metadata": {
  "anaconda-cloud": {},
  "kernelspec": {
   "display_name": "Python 3",
   "language": "python",
   "name": "python3"
  },
  "language_info": {
   "codemirror_mode": {
    "name": "ipython",
    "version": 3
   },
   "file_extension": ".py",
   "mimetype": "text/x-python",
   "name": "python",
   "nbconvert_exporter": "python",
   "pygments_lexer": "ipython3",
   "version": "3.8.8"
  }
 },
 "nbformat": 4,
 "nbformat_minor": 1
}
